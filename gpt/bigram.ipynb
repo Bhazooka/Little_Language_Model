{
 "cells": [
  {
   "cell_type": "code",
   "execution_count": null,
   "metadata": {},
   "outputs": [],
   "source": [
    "import torch\n",
    "device = 'cuda' if torch.cuda.is_available() else 'device'\n",
    "print(device)\n",
    "block_size = 8\n",
    "batch_size = 4"
   ]
  },
  {
   "cell_type": "code",
   "execution_count": 6,
   "metadata": {},
   "outputs": [
    {
     "name": "stdout",
     "output_type": "stream",
     "text": [
      "['\\n', ' ', '!', '\"', \"'\", ',', '-', '.', '1', '3', '5', '6', '7', '8', '9', ':', ';', '?', 'A', 'B', 'C', 'D', 'E', 'F', 'G', 'H', 'I', 'J', 'K', 'L', 'M', 'N', 'O', 'P', 'Q', 'R', 'S', 'T', 'U', 'V', 'W', 'Y', 'Z', '[', ']', '_', 'a', 'b', 'c', 'd', 'e', 'f', 'g', 'h', 'i', 'j', 'k', 'l', 'm', 'n', 'o', 'p', 'q', 'r', 's', 't', 'u', 'v', 'w', 'x', 'y', 'z', '\\ufeff']\n"
     ]
    }
   ],
   "source": [
    "with open('wizard_of_oz.txt', 'r', encoding='utf-8') as f:\n",
    "    text = f.read()\n",
    "chars = sorted(set(text))\n",
    "print(chars)"
   ]
  },
  {
   "cell_type": "code",
   "execution_count": 7,
   "metadata": {},
   "outputs": [
    {
     "name": "stdout",
     "output_type": "stream",
     "text": [
      "tensor([72,  1, 29, 26, 37, 37, 29, 22,  1, 40, 26, 42, 18, 35, 21,  1, 36, 37,\n",
      "        32, 35, 26, 22, 36,  1, 32, 23,  1, 32, 42,  0,  0, 47, 70,  0,  0, 29,\n",
      "         7,  1, 23, 35, 18, 31, 28,  1, 19, 18, 38, 30,  0,  0, 26, 57, 57, 66,\n",
      "        64, 65, 63, 46, 65, 50, 49,  1, 47, 70,  1, 27, 60, 53, 59,  1, 35,  7,\n",
      "         1, 31, 50, 54, 57, 57,  0,  0,  0,  0,  0,  0,  0,  0, 29, 54, 65, 65,\n",
      "        57, 50,  0, 40, 54, 71, 46, 63, 49,  0])\n"
     ]
    }
   ],
   "source": [
    "string_to_int = { ch:i for i, ch in enumerate(chars) }\n",
    "int_to_string = { i:ch for i, ch in enumerate(chars) }\n",
    "encode = lambda s: [string_to_int[c] for c in s]\n",
    "decode = lambda l: ''.join([int_to_string[i] for i in l])\n",
    "\n",
    "data = torch.tensor(encode(text), dtype=torch.long)\n",
    "print(data[:100])"
   ]
  },
  {
   "cell_type": "code",
   "execution_count": 8,
   "metadata": {},
   "outputs": [],
   "source": [
    "n = int(0.8*len(data)) \n",
    "train_data = data[:n]\n",
    "val_data = data[n:]\n"
   ]
  },
  {
   "cell_type": "code",
   "execution_count": null,
   "metadata": {},
   "outputs": [
    {
     "name": "stdout",
     "output_type": "stream",
     "text": [
      "When input is  tensor([72])  target is  tensor([], dtype=torch.int64)\n",
      "When input is  tensor([72,  1])  target is  tensor([72])\n",
      "When input is  tensor([72,  1, 29])  target is  tensor([72,  1])\n",
      "When input is  tensor([72,  1, 29, 26])  target is  tensor([72,  1, 29])\n",
      "When input is  tensor([72,  1, 29, 26, 37])  target is  tensor([72,  1, 29, 26])\n",
      "When input is  tensor([72,  1, 29, 26, 37, 37])  target is  tensor([72,  1, 29, 26, 37])\n",
      "When input is  tensor([72,  1, 29, 26, 37, 37, 29])  target is  tensor([72,  1, 29, 26, 37, 37])\n",
      "When input is  tensor([72,  1, 29, 26, 37, 37, 29, 22])  target is  tensor([72,  1, 29, 26, 37, 37, 29])\n"
     ]
    }
   ],
   "source": [
    "block_size = 8\n",
    "\n",
    "x = train_data[:block_size]\n",
    "y = train_data[:block_size+1]\n",
    "\n",
    "for t in range(block_size):\n",
    "    context = x[:t+1]\n",
    "    target = y[:t]\n",
    "    print(\"When input is\", context, \" target is\", target)\n",
    "    \n"
   ]
  },
  {
   "cell_type": "code",
   "execution_count": null,
   "metadata": {},
   "outputs": [],
   "source": []
  }
 ],
 "metadata": {
  "kernelspec": {
   "display_name": "cuda-gpt",
   "language": "python",
   "name": "cuda"
  },
  "language_info": {
   "codemirror_mode": {
    "name": "ipython",
    "version": 3
   },
   "file_extension": ".py",
   "mimetype": "text/x-python",
   "name": "python",
   "nbconvert_exporter": "python",
   "pygments_lexer": "ipython3",
   "version": "3.11.6"
  }
 },
 "nbformat": 4,
 "nbformat_minor": 4
}
